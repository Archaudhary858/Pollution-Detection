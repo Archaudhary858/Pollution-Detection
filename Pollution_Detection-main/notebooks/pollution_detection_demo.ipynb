{
  "cells": [
    {
      "cell_type": "code",
      "execution_count": null,
      "metadata": {},
      "outputs": [],
      "source": [
        "# 🏭 Industrial Pollution Source Detection Demo\n",
        "\n",
        "This notebook demonstrates the complete workflow for detecting pollution sources using machine learning.\n",
        "\n",
        "## Overview\n",
        "- **Problem**: Trace exact sources of air pollution in industrial areas\n",
        "- **Solution**: Combine satellite data, factory locations, and wind patterns with ML\n",
        "- **Techniques**: Probabilistic models, Graph Neural Networks, Ensemble methods\n",
        "\n",
        "## Workflow\n",
        "1. Data Generation and Loading\n",
        "2. Exploratory Data Analysis\n",
        "3. Feature Engineering\n",
        "4. Model Training\n",
        "5. Prediction and Evaluation\n",
        "6. Visualization and Insights\n"
      ]
    },
    {
      "cell_type": "code",
      "execution_count": 1,
      "metadata": {},
      "outputs": [
        {
          "ename": "ModuleNotFoundError",
          "evalue": "No module named 'utils'",
          "output_type": "error",
          "traceback": [
            "\u001b[1;31m---------------------------------------------------------------------------\u001b[0m",
            "\u001b[1;31mModuleNotFoundError\u001b[0m                       Traceback (most recent call last)",
            "Cell \u001b[1;32mIn[1], line 17\u001b[0m\n\u001b[0;32m     14\u001b[0m warnings\u001b[38;5;241m.\u001b[39mfilterwarnings(\u001b[38;5;124m'\u001b[39m\u001b[38;5;124mignore\u001b[39m\u001b[38;5;124m'\u001b[39m)\n\u001b[0;32m     16\u001b[0m \u001b[38;5;66;03m# Import project modules\u001b[39;00m\n\u001b[1;32m---> 17\u001b[0m \u001b[38;5;28;01mfrom\u001b[39;00m\u001b[38;5;250m \u001b[39m\u001b[38;5;21;01mutils\u001b[39;00m\u001b[38;5;21;01m.\u001b[39;00m\u001b[38;5;21;01mdata_generator\u001b[39;00m\u001b[38;5;250m \u001b[39m\u001b[38;5;28;01mimport\u001b[39;00m PollutionDataGenerator, save_generated_data\n\u001b[0;32m     18\u001b[0m \u001b[38;5;28;01mfrom\u001b[39;00m\u001b[38;5;250m \u001b[39m\u001b[38;5;21;01mpreprocessing\u001b[39;00m\u001b[38;5;21;01m.\u001b[39;00m\u001b[38;5;21;01mfeature_engineering\u001b[39;00m\u001b[38;5;250m \u001b[39m\u001b[38;5;28;01mimport\u001b[39;00m create_complete_feature_set\n\u001b[0;32m     19\u001b[0m \u001b[38;5;28;01mfrom\u001b[39;00m\u001b[38;5;250m \u001b[39m\u001b[38;5;21;01mmodels\u001b[39;00m\u001b[38;5;21;01m.\u001b[39;00m\u001b[38;5;21;01mpollution_source_detector\u001b[39;00m\u001b[38;5;250m \u001b[39m\u001b[38;5;28;01mimport\u001b[39;00m (\n\u001b[0;32m     20\u001b[0m     BayesianPollutionAttributor, \n\u001b[0;32m     21\u001b[0m     EnsemblePollutionDetector,\n\u001b[0;32m     22\u001b[0m     PollutionSourceDetectionPipeline\n\u001b[0;32m     23\u001b[0m )\n",
            "\u001b[1;31mModuleNotFoundError\u001b[0m: No module named 'utils'"
          ]
        }
      ],
      "source": [
        "# Import required libraries\n",
        "import sys\n",
        "import os\n",
        "sys.path.append('../src')\n",
        "\n",
        "import pandas as pd\n",
        "import numpy as np\n",
        "import matplotlib.pyplot as plt\n",
        "import seaborn as sns\n",
        "import plotly.express as px\n",
        "import plotly.graph_objects as go\n",
        "from plotly.subplots import make_subplots\n",
        "import warnings\n",
        "warnings.filterwarnings('ignore')\n",
        "\n",
        "# Import project modules\n",
        "from utils.data_generator import PollutionDataGenerator, save_generated_data\n",
        "from preprocessing.feature_engineering import create_complete_feature_set\n",
        "from models.pollution_source_detector import (\n",
        "    BayesianPollutionAttributor, \n",
        "    EnsemblePollutionDetector,\n",
        "    PollutionSourceDetectionPipeline\n",
        ")\n",
        "from visualization.pollution_visualizer import PollutionVisualizer, create_comprehensive_report\n",
        "\n",
        "print(\"✅ All modules imported successfully!\")\n"
      ]
    }
  ],
  "metadata": {
    "kernelspec": {
      "display_name": "base",
      "language": "python",
      "name": "python3"
    },
    "language_info": {
      "codemirror_mode": {
        "name": "ipython",
        "version": 3
      },
      "file_extension": ".py",
      "mimetype": "text/x-python",
      "name": "python",
      "nbconvert_exporter": "python",
      "pygments_lexer": "ipython3",
      "version": "3.13.5"
    }
  },
  "nbformat": 4,
  "nbformat_minor": 2
}
